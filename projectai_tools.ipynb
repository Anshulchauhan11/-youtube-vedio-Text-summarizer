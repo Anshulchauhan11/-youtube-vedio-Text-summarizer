{
  "nbformat": 4,
  "nbformat_minor": 0,
  "metadata": {
    "colab": {
      "provenance": [],
      "authorship_tag": "ABX9TyO5P1q7T9nryezu8nWIdPdm",
      "include_colab_link": true
    },
    "kernelspec": {
      "name": "python3",
      "display_name": "Python 3"
    },
    "language_info": {
      "name": "python"
    }
  },
  "cells": [
    {
      "cell_type": "markdown",
      "metadata": {
        "id": "view-in-github",
        "colab_type": "text"
      },
      "source": [
        "<a href=\"https://colab.research.google.com/github/Anshulchauhan11/-youtube-vedio-Text-summarizer/blob/main/projectai_tools.ipynb\" target=\"_parent\"><img src=\"https://colab.research.google.com/assets/colab-badge.svg\" alt=\"Open In Colab\"/></a>"
      ]
    },
    {
      "cell_type": "code",
      "source": [
        "!pip install -q transformers"
      ],
      "metadata": {
        "id": "WoOKDCULi_04"
      },
      "execution_count": 1,
      "outputs": []
    },
    {
      "cell_type": "code",
      "source": [
        "!pip install -q youtube_transcript_api"
      ],
      "metadata": {
        "id": "abe_x1KIjGqX"
      },
      "execution_count": 2,
      "outputs": []
    },
    {
      "cell_type": "code",
      "source": [
        "from transformers import pipeline\n",
        "from youtube_transcript_api import YouTubeTranscriptApi\n"
      ],
      "metadata": {
        "id": "-o_krixOjgZx"
      },
      "execution_count": 3,
      "outputs": []
    },
    {
      "cell_type": "code",
      "source": [
        "youtube_video = \"https://www.youtube.com/watch?v=8KkKuTCFvzI\""
      ],
      "metadata": {
        "id": "kTkf8MK8kPyS"
      },
      "execution_count": 28,
      "outputs": []
    },
    {
      "cell_type": "code",
      "source": [
        "video_id = youtube_video.split(\"=\")[1]"
      ],
      "metadata": {
        "id": "TBD3SWkMkVBt"
      },
      "execution_count": 29,
      "outputs": []
    },
    {
      "cell_type": "code",
      "source": [
        "video_id"
      ],
      "metadata": {
        "colab": {
          "base_uri": "https://localhost:8080/",
          "height": 35
        },
        "id": "XFdOSuQ1kVjl",
        "outputId": "163347ea-288c-4ce1-e1d7-d36059a1f13f"
      },
      "execution_count": 30,
      "outputs": [
        {
          "output_type": "execute_result",
          "data": {
            "text/plain": [
              "'8KkKuTCFvzI'"
            ],
            "application/vnd.google.colaboratory.intrinsic+json": {
              "type": "string"
            }
          },
          "metadata": {},
          "execution_count": 30
        }
      ]
    },
    {
      "cell_type": "code",
      "source": [
        "from IPython.display import YouTubeVideo\n",
        "YouTubeVideo(video_id)"
      ],
      "metadata": {
        "colab": {
          "base_uri": "https://localhost:8080/",
          "height": 321
        },
        "id": "fPrZ-SjBkmWj",
        "outputId": "24eda287-7186-4317-e2c7-ee320e84f01e"
      },
      "execution_count": 31,
      "outputs": [
        {
          "output_type": "execute_result",
          "data": {
            "text/plain": [
              "<IPython.lib.display.YouTubeVideo at 0x797533612c50>"
            ],
            "text/html": [
              "\n",
              "        <iframe\n",
              "            width=\"400\"\n",
              "            height=\"300\"\n",
              "            src=\"https://www.youtube.com/embed/8KkKuTCFvzI\"\n",
              "            frameborder=\"0\"\n",
              "            allowfullscreen\n",
              "            \n",
              "        ></iframe>\n",
              "        "
            ],
            "image/jpeg": "[encoded data removed]"
          },
          "metadata": {},
          "execution_count": 31
        }
      ]
    },
    {
      "cell_type": "code",
      "source": [
        "YouTubeTranscriptApi.get_transcript(video_id)\n",
        "transcript = YouTubeTranscriptApi.get_transcript(video_id)\n"
      ],
      "metadata": {
        "id": "qKGjGhe5kodM"
      },
      "execution_count": 32,
      "outputs": []
    },
    {
      "cell_type": "code",
      "source": [
        "#check it have text or not\n",
        "transcript[0:5]"
      ],
      "metadata": {
        "colab": {
          "base_uri": "https://localhost:8080/"
        },
        "id": "peqglWMxlKMt",
        "outputId": "7cbc0d5e-defe-46f6-a206-f4bff45b7151"
      },
      "execution_count": 33,
      "outputs": [
        {
          "output_type": "execute_result",
          "data": {
            "text/plain": [
              "[{'text': 'What keeps us healthy and happy', 'start': 12.756, 'duration': 3.0},\n",
              " {'text': 'as we go through life?', 'start': 15.756, 'duration': 1.583},\n",
              " {'text': 'If you were going to invest now', 'start': 18.506, 'duration': 2.5},\n",
              " {'text': 'in your future best self,', 'start': 21.048, 'duration': 2.041},\n",
              " {'text': 'where would you put your time\\nand your energy?',\n",
              "  'start': 23.131,\n",
              "  'duration': 2.958}]"
            ]
          },
          "metadata": {},
          "execution_count": 33
        }
      ]
    },
    {
      "cell_type": "code",
      "source": [
        "\n",
        "result = \"\"\n",
        "for i in transcript:\n",
        "    result += ' ' + i['text']\n",
        "#print(result)\n",
        "print(len(result))"
      ],
      "metadata": {
        "colab": {
          "base_uri": "https://localhost:8080/"
        },
        "id": "CqpTLn3Xly6o",
        "outputId": "eb7e2011-19f8-4539-d81b-9a644b55950a"
      },
      "execution_count": 34,
      "outputs": [
        {
          "output_type": "stream",
          "name": "stdout",
          "text": [
            "9644\n"
          ]
        }
      ]
    },
    {
      "cell_type": "code",
      "source": [
        "#summary piple of transofrmer to summarize the text meaningful\n",
        "summarizer = pipeline('summarization')"
      ],
      "metadata": {
        "colab": {
          "base_uri": "https://localhost:8080/"
        },
        "id": "wA_0foHwl2YY",
        "outputId": "f479a14e-670b-496f-feff-566a6be94c8c"
      },
      "execution_count": 35,
      "outputs": [
        {
          "output_type": "stream",
          "name": "stderr",
          "text": [
            "No model was supplied, defaulted to sshleifer/distilbart-cnn-12-6 and revision a4f8f3e (https://huggingface.co/sshleifer/distilbart-cnn-12-6).\n",
            "Using a pipeline without specifying a model name and revision in production is not recommended.\n"
          ]
        }
      ]
    },
    {
      "cell_type": "code",
      "source": [
        "num_iters = int(len(result)/1000)\n",
        "summarized_text = []\n",
        "for i in range(0, num_iters + 1):\n",
        "  start = 0\n",
        "  start = i * 1000\n",
        "  end = (i + 1) * 1000\n",
        "  print(\"input text \\n\" + result[start:end])\n",
        "  out = summarizer(result[start:end])\n",
        "  out = out[0]\n",
        "  out = out['summary_text']\n",
        "  print(\"Summarized text\\n\"+out)\n",
        "  summarized_text.append(out)\n",
        "\n",
        "#print(summarized_text)"
      ],
      "metadata": {
        "colab": {
          "base_uri": "https://localhost:8080/"
        },
        "id": "uBgRYb1umZaM",
        "outputId": "c28b8478-cebc-41b7-9f5c-069466229090"
      },
      "execution_count": 36,
      "outputs": [
        {
          "output_type": "stream",
          "name": "stdout",
          "text": [
            "input text \n",
            " What keeps us healthy and happy as we go through life? If you were going to invest now in your future best self, where would you put your time\n",
            "and your energy? There was a recent survey of millennials asking them what their\n",
            "most important life goals were, and over 80 percent said that a major life goal for them\n",
            "was to get rich. And another 50 percent\n",
            "of those same young adults said that another major life goal was to become famous. (Laughter) And we're constantly told\n",
            "to lean in to work, to push harder and achieve more. We're given the impression that these\n",
            "are the things that we need to go after in order to have a good life. Pictures of entire lives, of the choices that people make\n",
            "and how those choices work out for them, those pictures\n",
            "are almost impossible to get. Most of what we know about human life we know from asking people\n",
            "to remember the past, and as we know, hindsight\n",
            "is anything but 20/20. We forget vast amounts\n",
            "of what happens to us in life, and sometimes memory\n",
            "is downrig\n",
            "Summarized text\n",
            " There was a recent survey of millennials asking them what their most important life goals were, and over 80 percent said that a major life goal for them was to get rich . We're constantly told to lean in to work, to push harder and achieve more. We're given the impression that these are the things that we need to go after in order to have a good life .\n",
            "input text \n",
            "ht creative. But what if we could watch entire lives as they unfold through time? What if we could study people\n",
            "from the time that they were teenagers all the way into old age to see what really keeps people\n",
            "happy and healthy? We did that. The Harvard Study of Adult Development may be the longest study\n",
            "of adult life that's ever been done. For 75 years, we've tracked\n",
            "the lives of 724 men, year after year, asking about their work,\n",
            "their home lives, their health, and of course asking all along the way\n",
            "without knowing how their life stories were going to turn out. Studies like this are exceedingly rare. Almost all projects of this kind\n",
            "fall apart within a decade because too many people\n",
            "drop out of the study, or funding for the research dries up, or the researchers get distracted, or they die, and nobody moves the ball\n",
            "further down the field. But through a combination of luck and the persistence\n",
            "of several generations of researchers, this study has survived. About 60 of our original 724 men\n",
            "Summarized text\n",
            " The Harvard Study of Adult Development may be the longest study of adult life that's ever been done . For 75 years, we've tracked the lives of 724 men, year after year, asking about their work, home lives, health, and of course asking all along the way . Studies like this are exceedingly rare .\n",
            "input text \n",
            " are still alive, still participating in the study, most of them in their 90s. And we are now beginning to study the more than 2,000 children of these men. And I'm the fourth director of the study. Since 1938, we've tracked the lives\n",
            "of two groups of men. The first group started in the study when they were sophomores\n",
            "at Harvard College. They all finished college\n",
            "during World War II, and then most went off\n",
            "to serve in the war. And the second group that we've followed was a group of boys\n",
            "from Boston's poorest neighborhoods, boys who were chosen for the study specifically because they were\n",
            "from some of the most troubled and disadvantaged families in the Boston of the 1930s. Most lived in tenements,\n",
            "many without hot and cold running water. When they entered the study, all of these teenagers were interviewed. They were given medical exams. We went to their homes\n",
            "and we interviewed their parents. And then these teenagers\n",
            "grew up into adults who entered all walks of life. They became factory \n",
            "Summarized text\n",
            " Since 1938, we've tracked the lives of two groups of men in the Boston of the 1930s . The first group started in the study when they were sophomores at Harvard College . The second group was a group of boys from Boston's poorest neighborhoods . Most lived in tenements, many without hot and cold running water .\n",
            "input text \n",
            "workers and lawyers\n",
            "and bricklayers and doctors, one President of the United States. Some developed alcoholism.\n",
            "A few developed schizophrenia. Some climbed the social ladder from the bottom\n",
            "all the way to the very top, and some made that journey\n",
            "in the opposite direction. The founders of this study would never in their wildest dreams have imagined that I would be\n",
            "standing here today, 75 years later, telling you that\n",
            "the study still continues. Every two years, our patient\n",
            "and dedicated research staff calls up our men\n",
            "and asks them if we can send them yet one more set of questions\n",
            "about their lives. Many of the inner city Boston men ask us, \"Why do you keep wanting to study me?\n",
            "My life just isn't that interesting.\" The Harvard men never ask that question. (Laughter) To get the clearest picture\n",
            "of these lives, we don't just send them questionnaires. We interview them in their living rooms. We get their medical records\n",
            "from their doctors. We draw their blood, we scan their brains, we talk \n",
            "Summarized text\n",
            " The founders of this study would never in their wildest dreams have imagined that I would be standing here today, 75 years later, telling you that the study still continues . Every two years, our patient and dedicated research staff calls up our men and asks them if we can send them yet one more set of questions about their lives .\n",
            "input text \n",
            "to their children. We videotape them talking with their wives\n",
            "about their deepest concerns. And when, about a decade ago,\n",
            "we finally asked the wives if they would join us\n",
            "as members of the study, many of the women said,\n",
            "\"You know, it's about time.\" (Laughter) So what have we learned? What are the lessons that come\n",
            "from the tens of thousands of pages of information that we've generated on these lives? Well, the lessons aren't about wealth\n",
            "or fame or working harder and harder. The clearest message that we get\n",
            "from this 75-year study is this: Good relationships keep us\n",
            "happier and healthier. Period. We've learned three big lessons\n",
            "about relationships. The first is that social connections\n",
            "are really good for us, and that loneliness kills. It turns out that people\n",
            "who are more socially connected to family, to friends, to community, are happier, they're physically healthier,\n",
            "and they live longer than people who are less well connected. And the experience of loneliness\n",
            "turns out to be toxic. \n",
            "Summarized text\n",
            " People who are more socially connected to family, to friends, to community, are happier, healthier, they're physically healthier and they live longer than people who are less well connected . The clearest message that we get from this 75-year study is this: Good relationships keep us healthier and happier .\n",
            "input text \n",
            "People who are more isolated\n",
            "than they want to be from others find that they are less happy, their health declines earlier in midlife, their brain functioning declines sooner and they live shorter lives\n",
            "than people who are not lonely. And the sad fact\n",
            "is that at any given time, more than one in five Americans\n",
            "will report that they're lonely. And we know that you\n",
            "can be lonely in a crowd and you can be lonely in a marriage, so the second big lesson that we learned is that it's not just\n",
            "the number of friends you have, and it's not whether or not\n",
            "you're in a committed relationship, but it's the quality\n",
            "of your close relationships that matters. It turns out that living in the midst\n",
            "of conflict is really bad for our health. High-conflict marriages, for example,\n",
            "without much affection, turn out to be very bad for our health,\n",
            "perhaps worse than getting divorced. And living in the midst of good,\n",
            "warm relationships is protective. Once we had followed our men\n",
            "all the way into their 80s, we wante\n",
            "Summarized text\n",
            " At any given time, more than one in five Americans report that they're lonely . People who are more isolated are less happy, their health declines earlier in midlife, brain functioning declines sooner . Living in the midst of conflict is really bad for our health, perhaps worse than getting divorced .\n",
            "input text \n",
            "d to look back at them at midlife and to see if we could predict who was going to grow\n",
            "into a happy, healthy octogenarian and who wasn't. And when we gathered together\n",
            "everything we knew about them at age 50, it wasn't their middle age\n",
            "cholesterol levels that predicted how they\n",
            "were going to grow old. It was how satisfied they were\n",
            "in their relationships. The people who were the most satisfied\n",
            "in their relationships at age 50 were the healthiest at age 80. And good, close relationships\n",
            "seem to buffer us from some of the slings and arrows\n",
            "of getting old. Our most happily partnered men and women reported, in their 80s, that on the days\n",
            "when they had more physical pain, their mood stayed just as happy. But the people who were\n",
            "in unhappy relationships, on the days when they\n",
            "reported more physical pain, it was magnified by more emotional pain. And the third big lesson that we learned\n",
            "about relationships and our health is that good relationships\n",
            "don't just protect our bodies, they protect ou\n",
            "Summarized text\n",
            " The people who were the most satisfied in their relationships at age 50 were the healthiest at age 80 . Good, close relationships buffer us from some of the slings and arrows we face getting old . Good relationships don't just protect our bodies, they protect our relationships, they also protect our health .\n",
            "input text \n",
            "r brains. It turns out that being\n",
            "in a securely attached relationship to another person in your 80s\n",
            "is protective, that the people who are in relationships where they really feel they can count\n",
            "on the other person in times of need, those people's memories\n",
            "stay sharper longer. And the people in relationships where they feel they really\n",
            "can't count on the other one, those are the people who experience\n",
            "earlier memory decline. And those good relationships,\n",
            "they don't have to be smooth all the time. Some of our octogenarian couples\n",
            "could bicker with each other day in and day out, but as long as they felt that they\n",
            "could really count on the other when the going got tough, those arguments didn't take a toll\n",
            "on their memories. So this message, that good, close relationships\n",
            "are good for our health and well-being, this is wisdom that's as old as the hills. Why is this so hard to get\n",
            "and so easy to ignore? Well, we're human. What we'd really like is a quick fix, something we can get that'll make\n",
            "Summarized text\n",
            " It turns out that being in a securely attached relationship to another person in your 80s is protective . The people who are in relationships where they really feel they can count on the other person in times of need, those people's memories are sharper longer . Good, close relationships are good for our health and well-being, this is wisdom that's as old as the hills .\n",
            "input text \n",
            " our lives good\n",
            "and keep them that way. Relationships are messy\n",
            "and they're complicated and the hard work of tending\n",
            "to family and friends, it's not sexy or glamorous. It's also lifelong. It never ends. The people in our 75-year study\n",
            "who were the happiest in retirement were the people who had actively worked\n",
            "to replace workmates with new playmates. Just like the millennials\n",
            "in that recent survey, many of our men when they\n",
            "were starting out as young adults really believed that fame and wealth\n",
            "and high achievement were what they needed to go after\n",
            "to have a good life. But over and over, over these 75 years,\n",
            "our study has shown that the people who fared the best were\n",
            "the people who leaned in to relationships, with family, with friends, with community. So what about you? Let's say you're 25,\n",
            "or you're 40, or you're 60. What might leaning in\n",
            "to relationships even look like? Well, the possibilities\n",
            "are practically endless. It might be something as simple\n",
            "as replacing screen time with people\n",
            "Summarized text\n",
            " People who were happiest in retirement were the people who had actively worked to replace workmates with new playmates . Relationships are messy and messy and they're complicated and the hard work of tending to family and friends, it's not sexy or glamorous. It's also lifelong. The people who fared the best were those who leaned in to relationships, with family, with friends, with community.\n",
            "input text \n",
            " time or livening up a stale relationship\n",
            "by doing something new together, long walks or date nights, or reaching out to that family member\n",
            "who you haven't spoken to in years, because those all-too-common family feuds take a terrible toll on the people who hold the grudges. I'd like to close with a quote\n",
            "from Mark Twain. More than a century ago, he was looking back on his life, and he wrote this: \"There isn't time, so brief is life, for bickerings, apologies,\n",
            "heartburnings, callings to account. There is only time for loving, and but an instant,\n",
            "so to speak, for that.\" The good life is built\n",
            "with good relationships. Thank you. (Applause)\n",
            "Summarized text\n",
            " Mark Twain: \"There isn't time, so brief is life, for bickerings, apologies, heartburnings, callings to account. There is only time for loving, and but an instant,so to speak, for that.\" The good life is built with good relationships, he says .\n"
          ]
        }
      ]
    },
    {
      "cell_type": "code",
      "source": [
        "str(summarized_text)"
      ],
      "metadata": {
        "colab": {
          "base_uri": "https://localhost:8080/",
          "height": 143
        },
        "id": "-xmbLROz8zlG",
        "outputId": "18b65999-57b8-4d9f-db2f-4c354ff5352d"
      },
      "execution_count": 37,
      "outputs": [
        {
          "output_type": "execute_result",
          "data": {
            "text/plain": [
              "'[\" There was a recent survey of millennials asking them what their most important life goals were, and over 80 percent said that a major life goal for them was to get rich . We\\'re constantly told to lean in to work, to push harder and achieve more. We\\'re given the impression that these are the things that we need to go after in order to have a good life .\", \" The Harvard Study of Adult Development may be the longest study of adult life that\\'s ever been done . For 75 years, we\\'ve tracked the lives of 724 men, year after year, asking about their work, home lives, health, and of course asking all along the way . Studies like this are exceedingly rare .\", \" Since 1938, we\\'ve tracked the lives of two groups of men in the Boston of the 1930s . The first group started in the study when they were sophomores at Harvard College . The second group was a group of boys from Boston\\'s poorest neighborhoods . Most lived in tenements, many without hot and cold running water .\", \\' The founders of this study would never in their wildest dreams have imagined that I would be standing here today, 75 years later, telling you that the study still continues . Every two years, our patient and dedicated research staff calls up our men and asks them if we can send them yet one more set of questions about their lives .\\', \" People who are more socially connected to family, to friends, to community, are happier, healthier, they\\'re physically healthier and they live longer than people who are less well connected . The clearest message that we get from this 75-year study is this: Good relationships keep us healthier and happier .\", \" At any given time, more than one in five Americans report that they\\'re lonely . People who are more isolated are less happy, their health declines earlier in midlife, brain functioning declines sooner . Living in the midst of conflict is really bad for our health, perhaps worse than getting divorced .\", \" The people who were the most satisfied in their relationships at age 50 were the healthiest at age 80 . Good, close relationships buffer us from some of the slings and arrows we face getting old . Good relationships don\\'t just protect our bodies, they protect our relationships, they also protect our health .\", \" It turns out that being in a securely attached relationship to another person in your 80s is protective . The people who are in relationships where they really feel they can count on the other person in times of need, those people\\'s memories are sharper longer . Good, close relationships are good for our health and well-being, this is wisdom that\\'s as old as the hills .\", \" People who were happiest in retirement were the people who had actively worked to replace workmates with new playmates . Relationships are messy and messy and they\\'re complicated and the hard work of tending to family and friends, it\\'s not sexy or glamorous. It\\'s also lifelong. The people who fared the best were those who leaned in to relationships, with family, with friends, with community.\", \\' Mark Twain: \"There isn\\\\\\'t time, so brief is life, for bickerings, apologies, heartburnings, callings to account. There is only time for loving, and but an instant,so to speak, for that.\" The good life is built with good relationships, he says .\\']'"
            ],
            "application/vnd.google.colaboratory.intrinsic+json": {
              "type": "string"
            }
          },
          "metadata": {},
          "execution_count": 37
        }
      ]
    },
    {
      "cell_type": "code",
      "source": [
        "len(str(summarized_text))"
      ],
      "metadata": {
        "colab": {
          "base_uri": "https://localhost:8080/"
        },
        "id": "TDW7SObGorLs",
        "outputId": "adc833e3-a482-430b-a7eb-99e59ddd921f"
      },
      "execution_count": 38,
      "outputs": [
        {
          "output_type": "execute_result",
          "data": {
            "text/plain": [
              "3272"
            ]
          },
          "metadata": {},
          "execution_count": 38
        }
      ]
    },
    {
      "cell_type": "markdown",
      "source": [
        "text summerization\n"
      ],
      "metadata": {
        "id": "g7hLOABfrJO_"
      }
    },
    {
      "cell_type": "code",
      "source": [
        "ARTICLE = \"\"\"\n",
        "The one overwhelming piece of feedback I've seen about the new iPhone 16 is that it looks pretty. The new teal, ultramarine, and pink colors are more vivid than previous ones, thanks to a new manufacturing process, which Apple says infuses color throughout the glass back of the phone. The iPhone 16 Pro colors are boring, and I agree.\n",
        "\n",
        "There are no sweeping changes to the iPhone 16 over its predecessor. Yes, there's a new Camera Control button, and the Action Button has trickled down from the Pro, but nearly every other part of the device is an iterative upgrade. I've also now been living with Apple Intelligence for a few weeks—at least, a beta version of it with some missing features—and it's safe to say that while there are a few features that will be very helpful day-to-day for some folks, it is not a reason to upgrade, especially if your iPhone is functioning fine.\n",
        "\n",
        "All that said, this iPhone has a beefier battery and a more powerful processor, and it is easier to repair. Its cameras are more than capable. Combined with the fact that Face ID is still unrivaled, the Dynamic Island has grown on me, and I'm still waiting for MagSafe-like charging to make its way to Android phones. It doesn't feel like the iPhone 16 needs much more.\n",
        "\n",
        "Why Go Pro?\n",
        "Apple spends a lot of time on prosumer features in its iPhone Pro models, but very few people will use them. ProRes? Log video recording? Academy Color Encoding System? If none of those words matter to you, then there are only a few reasons to get the iPhone 16 Pro this year.\n",
        "\n",
        "The main things have to do with the display. The iPhone 16 Pro models have bigger screens now, one-upping the 6.1-inch and 6.7-inch OLED screens on the iPhone 16 and iPhone 16 Plus. This change is more effective on the iPhone 16 Pro, but it makes the iPhone 16 Pro Max too unwieldy. The screen sizes on the non-Pro iPhones never leave me wanting. On the non-Pro iPhone, you don't have the always-on display, but I don't mind that it's not here.Apple's more serious omission is the lack of ProMotion on the cheaper iPhones. This means you are stuck on a 60-Hz screen when almost every other smartphone at this price has a 120-Hz refresh rate. Maybe I'm nitpicking, but the first thing I said after switching from the iPhone 16 Pro to the iPhone 16 was, “Why is it laggy?” It's not that the phone performs poorly. The display refreshes 60 times per second, and when you move from screens that refresh 120 times, you're effectively seeing slower animations throughout. This tech will likely get ported down in 2025, but it's past due at this price.\n",
        "\n",
        "The entire iPhone 16 lineup has Apple's new Ceramic Shield glass, which is supposedly twice as strong as the previous generation, but remember: Glass is still glass. I dropped the iPhone 16 Plus onto the pavement (a 4-foot drop), and the display cracked; business as usual. Get a case and screen protector! Build-wise, the Pro phones have a titanium frame versus aluminum on the standard iPhones, but durability-wise, they're all glass sandwiches. Titanium does make the Pro phones lighter, but the iPhone 16 and 16 Plus still weigh less.\n",
        "\n",
        "Camera Control is the new button on the iPhone 16 range, and I'm getting used to it. I prefer to use it as a dedicated camera launch button, freeing up the Action Button (also new on a non-Pro iPhone) to trigger something else, like Silent mode. But you can put some light pressure on the Camera Control button to cycle through camera modes or scroll through different Photographic Styles—the revamped color-grading filters that let you add a look to your images pre-capture. I use the sliding function here and there but prefer to select the mode I want to shoot in by tapping the screen.\n",
        "\"\"\""
      ],
      "metadata": {
        "id": "_B8cMDiwrLJZ"
      },
      "execution_count": 14,
      "outputs": []
    },
    {
      "cell_type": "code",
      "source": [
        "summarizer(ARTICLE, max_length=130, min_length=30, do_sample=False)"
      ],
      "metadata": {
        "colab": {
          "base_uri": "https://localhost:8080/"
        },
        "id": "WuJP2WObrRfn",
        "outputId": "b00d6476-1c1d-4706-cd7a-785d0f3f3c3c"
      },
      "execution_count": 15,
      "outputs": [
        {
          "output_type": "execute_result",
          "data": {
            "text/plain": [
              "[{'summary_text': ' There are no sweeping changes to the iPhone 16 over its predecessor . The new teal, ultramarine, and pink colors are more vivid than previous ones . This iPhone has a beefier battery and a more powerful processor, and it is easier to repair .'}]"
            ]
          },
          "metadata": {},
          "execution_count": 15
        }
      ]
    }
  ]
}